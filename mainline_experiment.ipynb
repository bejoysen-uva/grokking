{
 "cells": [
  {
   "cell_type": "code",
   "execution_count": 59,
   "id": "b1d243e1-0d0b-4ee3-b187-065f46bcd79c",
   "metadata": {},
   "outputs": [
    {
     "name": "stdout",
     "output_type": "stream",
     "text": [
      "Python Platfsorm: Linux-5.10.0-21-cloud-amd64-x86_64-with-glibc2.31\n",
      "PyTorch Version: 1.13.1+cu117\n",
      "\n",
      "Python 3.10.10 | packaged by conda-forge | (main, Mar 24 2023, 20:08:06) [GCC 11.3.0]\n",
      "GPU is available\n",
      "MPS (Apple Metal) is NOT AVAILABLE\n",
      "Target device is cuda:0\n"
     ]
    }
   ],
   "source": [
    "import sys\n",
    "import platform\n",
    "import torch\n",
    "import torch.nn.functional as F\n",
    "from torch import nn\n",
    "import numpy as np\n",
    "from tqdm import tqdm\n",
    "import matplotlib.pyplot as plt\n",
    "\n",
    "has_gpu = torch.cuda.is_available()\n",
    "has_mps = getattr(torch,'has_mps',False)\n",
    "device = \"mps\" if getattr(torch,'has_mps',False) \\\n",
    "    else \"cuda:0\" if torch.cuda.is_available() else \"cpu\"\n",
    "\n",
    "print(f\"Python Platfsorm: {platform.platform()}\")\n",
    "print(f\"PyTorch Version: {torch.__version__}\")\n",
    "print()\n",
    "print(f\"Python {sys.version}\")\n",
    "print(\"GPU is\", \"available\" if has_gpu else \"NOT AVAILABLE\")\n",
    "print(\"MPS (Apple Metal) is\", \"AVAILABLE\" if has_mps else \"NOT AVAILABLE\")\n",
    "print(f\"Target device is {device}\")"
   ]
  },
  {
   "cell_type": "code",
   "execution_count": 2,
   "id": "098077c6",
   "metadata": {},
   "outputs": [],
   "source": [
    "# Experiment Details (see Setup and Background)\n",
    "P = 113 # (a+b) mod P\n",
    "n_tokens = P+1 # 0,...,P-1,'='\n",
    "seq_len = 3 # a,b,'='\n",
    "d_embed = 128 # token embedding dimension (also need \"learned positional embeddings\")\n",
    "n_heads = 4 # number of attention heads\n",
    "d_mlp = 512 # hidden units in MLP\n",
    "train_split = .3 # use only 30% of all possible pairs to train model\n",
    "n_layers = 1 # only decoder layers"
   ]
  },
  {
   "attachments": {},
   "cell_type": "markdown",
   "id": "b07dbe4e",
   "metadata": {},
   "source": [
    "# Preprocessing"
   ]
  },
  {
   "cell_type": "code",
   "execution_count": 62,
   "id": "ee371368",
   "metadata": {},
   "outputs": [],
   "source": [
    "input_vals = np.arange(P)  # Array of input numbers from 0 to P-1\n",
    "\n",
    "# Create a grid of all possible pairs of digits\n",
    "pairs = np.meshgrid(input_vals, input_vals)\n",
    "\n",
    "# Reshape the arrays and stack them horizontally to create a 2D array of pairs\n",
    "pairs_array = np.column_stack((pairs[0].ravel(), pairs[1].ravel()))\n",
    "output_array = np.mod(np.sum(pairs_array,axis=1),P)\n",
    "\n",
    "eq_col = np.ones(len(pairs_array))*P # column of P,...,P since P = '='\n",
    "input_array = np.concatenate((pairs_array,eq_col.reshape((len(eq_col),1))),axis=1)\n",
    "input_array = torch.tensor(input_array, dtype=torch.long, device=device)\n",
    "output_array = torch.tensor(output_array, dtype=torch.long, device=device)\n",
    "assert(input_array.shape==(P**2,3))\n",
    "assert(output_array.shape==(P**2,))"
   ]
  },
  {
   "cell_type": "code",
   "execution_count": 54,
   "id": "106d3221",
   "metadata": {},
   "outputs": [],
   "source": [
    "np.random.seed(42)\n",
    "NUM_INSTANCES = input_array.shape[0]\n",
    "TEST_RATIO = 0.7\n",
    "TEST_SIZE = int(NUM_INSTANCES * TEST_RATIO)\n",
    "\n",
    "BATCH_SIZE=NUM_INSTANCES-TEST_SIZE # FULL BATCH = TRAIN SIZE\n",
    "assert(P**2==NUM_INSTANCES)"
   ]
  },
  {
   "cell_type": "code",
   "execution_count": 63,
   "id": "152eb4b6",
   "metadata": {},
   "outputs": [],
   "source": [
    "indices = list(range(NUM_INSTANCES))\n",
    "test_idx = np.random.choice(indices, size = TEST_SIZE, replace = False)\n",
    "train_idx = list(set(indices) - set(test_idx))\n",
    "\n",
    "test_idx = torch.tensor(test_idx, device=device)\n",
    "train_idx = torch.tensor(train_idx, device=device)\n",
    "\n",
    "train_input = torch.gather(input_array, 0, train_idx.unsqueeze(1).repeat(1, 3))\n",
    "test_input = torch.gather(input_array, 0, test_idx.unsqueeze(1).repeat(1, 3))\n",
    "\n",
    "train_output = torch.gather(output_array, 0, train_idx)\n",
    "test_output = torch.gather(output_array, 0, test_idx)"
   ]
  },
  {
   "cell_type": "code",
   "execution_count": 56,
   "id": "c3e645d0-2e14-41b1-a915-7b4dcf45027b",
   "metadata": {},
   "outputs": [
    {
     "data": {
      "text/plain": [
       "<torch._C.Generator at 0x7f073c53cfd0>"
      ]
     },
     "execution_count": 56,
     "metadata": {},
     "output_type": "execute_result"
    }
   ],
   "source": [
    "torch.manual_seed(21)"
   ]
  },
  {
   "attachments": {},
   "cell_type": "markdown",
   "id": "2a85c034-86e6-44f5-9d22-dd71de27e252",
   "metadata": {},
   "source": [
    "# Model and Training"
   ]
  },
  {
   "cell_type": "code",
   "execution_count": 47,
   "id": "1148040d",
   "metadata": {},
   "outputs": [],
   "source": [
    "class PositionalEncoding(nn.Module):\n",
    "    def __init__(self, d_model, dropout=0, max_len=seq_len):\n",
    "        super(PositionalEncoding, self).__init__()\n",
    "        self.dropout = nn.Dropout(p=dropout)\n",
    "        pe = torch.zeros(max_len, d_model)\n",
    "        position = torch.arange(0, max_len, dtype=torch.float).unsqueeze(1)\n",
    "        div_term = torch.exp(torch.arange(0, d_model, 2).float() * (-np.log(10000.0) / d_model))\n",
    "        pe[:, 0::2] = torch.sin(position * div_term)\n",
    "        pe[:, 1::2] = torch.cos(position * div_term)\n",
    "        pe = pe.unsqueeze(0).transpose(0, 1)\n",
    "        self.register_buffer('pe', pe)\n",
    "\n",
    "    def forward(self, x):\n",
    "        x = x + self.pe[:x.size(0), :]\n",
    "        return self.dropout(x)"
   ]
  },
  {
   "cell_type": "code",
   "execution_count": 66,
   "id": "80713cc6",
   "metadata": {},
   "outputs": [],
   "source": [
    "class TransformerNet(nn.Module):\n",
    "    def __init__(self,n_tokens,seq_len,d_embed,d_mlp,n_heads):\n",
    "        super(TransformerNet,self).__init__()\n",
    "        self.We = nn.Embedding(n_tokens,d_embed)\n",
    "        self.Pe = PositionalEncoding(d_embed, max_len = seq_len)\n",
    "        \n",
    "        # Decoder: Attention head\n",
    "        self.attn1 = nn.MultiheadAttention(d_embed,n_heads,dropout=0,bias=False)\n",
    "        # self.attn_mask = torch.triu(torch.ones((seq_len,seq_len),device=device))\n",
    "        # Decoder: MLP\n",
    "        self.lin1 = nn.Linear(d_embed,d_mlp)\n",
    "        self.lin2 = nn.Linear(d_mlp,d_embed)\n",
    "        \n",
    "        # Unembedding (not tied to embedding)\n",
    "        self.Wu = nn.Linear(d_embed,n_tokens,bias=False)\n",
    "        \n",
    "    def forward(self,src):\n",
    "        # token\n",
    "        x = self.Pe(self.We(src).permute(1,0,2))\n",
    "        # token embedding + positional embedding\n",
    "        x = x[2]+self.attn1(x,x,x,need_weights=False)[0][2] # No attention mask\n",
    "        # residual stream from first two tokens is irrelevant once '=' has attended to those tokens, so we only consider idx=2\n",
    "        x = x+self.lin2(F.relu(self.lin1(x)))\n",
    "        # feed-forward (MLP) part of decoder\n",
    "        logits = self.Wu(x)\n",
    "        return logits"
   ]
  },
  {
   "cell_type": "code",
   "execution_count": 67,
   "id": "9079f41c",
   "metadata": {},
   "outputs": [],
   "source": [
    "model = TransformerNet(n_tokens,seq_len,d_embed,d_mlp,n_heads).to(device)\n",
    "criterion = nn.CrossEntropyLoss()\n",
    "optimizer = torch.optim.AdamW(model.parameters(), lr = 1e-3, weight_decay=1.0, betas=(0.9,0.98))\n",
    "scheduler = torch.optim.lr_scheduler.LambdaLR(optimizer, lambda step: min(step/10, 1))"
   ]
  },
  {
   "cell_type": "code",
   "execution_count": 68,
   "id": "a7574ed4",
   "metadata": {},
   "outputs": [],
   "source": [
    "train_loss = []\n",
    "train_acc = []\n",
    "test_loss = []\n",
    "test_acc = []\n",
    "acc = lambda lgits,truth: (torch.sum(torch.argmax(lgits,1)==truth)/len(lgits)).item()"
   ]
  },
  {
   "cell_type": "code",
   "execution_count": 69,
   "id": "b4465579",
   "metadata": {},
   "outputs": [],
   "source": [
    "def train_model(n_epochs):\n",
    "    for epoch in tqdm(range(n_epochs)):\n",
    "        # train loss\n",
    "        x,y = train_input, train_output\n",
    "        logits = model(x).to(torch.float64)\n",
    "        loss = criterion(logits,y)\n",
    "        \n",
    "        train_loss.append(loss.item())\n",
    "        train_acc.append(acc(logits,y))\n",
    "        \n",
    "        # test loss\n",
    "        x,y = test_input, test_output\n",
    "        logits = model(x)\n",
    "        loss2 = criterion(logits,y)\n",
    "        test_loss.append(loss2.item())\n",
    "        test_acc.append(acc(logits,y))\n",
    "        \n",
    "        # backprop\n",
    "\n",
    "        loss.backward()\n",
    "        optimizer.step()\n",
    "        scheduler.step()\n",
    "        optimizer.zero_grad()"
   ]
  },
  {
   "attachments": {},
   "cell_type": "markdown",
   "id": "febfe4ad-7236-41e3-b4e5-7eb5e0ed4279",
   "metadata": {},
   "source": [
    "# Results"
   ]
  },
  {
   "cell_type": "code",
   "execution_count": 72,
   "id": "39934e23-ba03-449c-9aa2-4a4a154b0d9d",
   "metadata": {},
   "outputs": [
    {
     "data": {
      "image/png": "[encoded data removed]",
      "text/plain": [
       "<Figure size 640x480 with 2 Axes>"
      ]
     },
     "metadata": {},
     "output_type": "display_data"
    }
   ],
   "source": [
    "def show_plots():\n",
    "    fig,ax = plt.subplots(2,1,sharex=True)\n",
    "    NUM_EPOCHS = len(test_loss)\n",
    "    ax[0].set_title(\"Loss\")\n",
    "    ax[0].plot(range(1, NUM_EPOCHS+1), test_loss, 'r-',label='test')\n",
    "    ax[0].plot(range(1, NUM_EPOCHS+1), train_loss, 'b-',label='train')\n",
    "    ax[0].legend()\n",
    "    ax[1].set_title(\"Accuracy\")\n",
    "    ax[1].plot(range(1, NUM_EPOCHS+1), test_acc, 'r-')\n",
    "    ax[1].plot(range(1, NUM_EPOCHS+1), train_acc, 'b-')\n",
    "    ax[0].set_yscale('log')\n",
    "    plt.show()\n",
    "    \n",
    "train_model(50_000)\n",
    "show_plots()"
   ]
  }
 ],
 "metadata": {
  "environment": {
   "kernel": "python3",
   "name": "pytorch-gpu.1-13.m108",
   "type": "gcloud",
   "uri": "gcr.io/deeplearning-platform-release/pytorch-gpu.1-13:m108"
  },
  "kernelspec": {
   "display_name": "Python 3",
   "language": "python",
   "name": "python3"
  },
  "language_info": {
   "codemirror_mode": {
    "name": "ipython",
    "version": 3
   },
   "file_extension": ".py",
   "mimetype": "text/x-python",
   "name": "python",
   "nbconvert_exporter": "python",
   "pygments_lexer": "ipython3",
   "version": "3.10.10"
  }
 },
 "nbformat": 4,
 "nbformat_minor": 5
}
