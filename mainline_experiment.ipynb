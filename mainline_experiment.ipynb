{
 "cells": [
  {
   "cell_type": "code",
   "execution_count": 1,
   "id": "b78c7fcf",
   "metadata": {},
   "outputs": [
    {
     "name": "stdout",
     "output_type": "stream",
     "text": [
      "Intel MKL WARNING: Support of Intel(R) Streaming SIMD Extensions 4.2 (Intel(R) SSE4.2) enabled only processors has been deprecated. Intel oneAPI Math Kernel Library 2025.0 will require Intel(R) Advanced Vector Extensions (Intel(R) AVX) instructions.\n",
      "Intel MKL WARNING: Support of Intel(R) Streaming SIMD Extensions 4.2 (Intel(R) SSE4.2) enabled only processors has been deprecated. Intel oneAPI Math Kernel Library 2025.0 will require Intel(R) Advanced Vector Extensions (Intel(R) AVX) instructions.\n"
     ]
    }
   ],
   "source": [
    "import torch\n",
    "import numpy as np\n",
    "from tqdm import tqdm"
   ]
  },
  {
   "cell_type": "code",
   "execution_count": 2,
   "id": "098077c6",
   "metadata": {},
   "outputs": [],
   "source": [
    "# Experiment Details (see Setup and Background)\n",
    "P = 113 # (a+b) mod P\n",
    "n_tokens = P+1 # 0,...,P-1,'='\n",
    "seq_len = 3 # a,b,'='\n",
    "d_embed = 128 # token embedding dimension (also need \"learned positional embeddings\")\n",
    "n_heads = 4 # number of attention heads\n",
    "d_mlp = 512 # hidden units in MLP\n",
    "train_split = .3 # use only 30% of all possible pairs to train model\n",
    "n_layers = 1 # only decoder layers"
   ]
  },
  {
   "cell_type": "markdown",
   "id": "b07dbe4e",
   "metadata": {},
   "source": [
    "# Preprocessing"
   ]
  },
  {
   "cell_type": "code",
   "execution_count": 3,
   "id": "ee371368",
   "metadata": {},
   "outputs": [],
   "source": [
    "input_vals = np.arange(P)  # Array of input numbers from 0 to P-1\n",
    "\n",
    "# Create a grid of all possible pairs of digits\n",
    "pairs = np.meshgrid(input_vals, input_vals)\n",
    "\n",
    "# Reshape the arrays and stack them horizontally to create a 2D array of pairs\n",
    "pairs_array = np.column_stack((pairs[0].ravel(), pairs[1].ravel()))\n",
    "output_array = np.mod(np.sum(pairs_array,axis=1),P)\n",
    "\n",
    "eq_col = np.ones(len(pairs_array))*P # column of P,...,P since P = '='\n",
    "input_array = np.concatenate((pairs_array,eq_col.reshape((len(eq_col),1))),axis=1)\n",
    "assert(input_array.shape==(P**2,3))\n",
    "assert(output_array.shape==(P**2,))"
   ]
  },
  {
   "cell_type": "code",
   "execution_count": 4,
   "id": "152eb4b6",
   "metadata": {},
   "outputs": [],
   "source": [
    "class MTDataset(torch.utils.data.Dataset):\n",
    "  def __init__(self):\n",
    "    # import and initialize dataset    \n",
    "    self.source = np.array(input_array, dtype=int)\n",
    "    self.target = np.array(output_array, dtype = int)\n",
    "    \n",
    "  def __getitem__(self, idx):\n",
    "    # get item by index\n",
    "    return self.source[idx], self.target[idx]\n",
    "  \n",
    "  def __len__(self):\n",
    "    # returns length of data\n",
    "    return len(self.source)"
   ]
  },
  {
   "cell_type": "code",
   "execution_count": 5,
   "id": "106d3221",
   "metadata": {},
   "outputs": [],
   "source": [
    "np.random.seed(42)\n",
    "dataset = MTDataset()\n",
    "NUM_INSTANCES = len(dataset)\n",
    "TEST_RATIO = 0.7\n",
    "TEST_SIZE = int(NUM_INSTANCES * TEST_RATIO)\n",
    "\n",
    "BATCH_SIZE=NUM_INSTANCES-TEST_SIZE # FULL BATCH = TRAIN SIZE\n",
    "assert(P**2==NUM_INSTANCES)"
   ]
  },
  {
   "cell_type": "code",
   "execution_count": 6,
   "id": "1c8f10a7",
   "metadata": {},
   "outputs": [],
   "source": [
    "indices = list(range(NUM_INSTANCES))\n",
    "\n",
    "test_idx = np.random.choice(indices, size = TEST_SIZE, replace = False)\n",
    "train_idx = list(set(indices) - set(test_idx))\n",
    "train_sampler, test_sampler = torch.utils.data.SubsetRandomSampler(train_idx), torch.utils.data.SubsetRandomSampler(test_idx)\n",
    "\n",
    "train_loader = torch.utils.data.DataLoader(dataset, batch_size = BATCH_SIZE, sampler = train_sampler)\n",
    "test_loader = torch.utils.data.DataLoader(dataset, batch_size = BATCH_SIZE, sampler = test_sampler)"
   ]
  },
  {
   "cell_type": "code",
   "execution_count": 7,
   "id": "65251a23",
   "metadata": {},
   "outputs": [],
   "source": [
    "generator1 = torch.Generator().manual_seed(42)\n",
    "train_split, test_split = torch.utils.data.random_split(range(NUM_INSTANCES), [1-TEST_RATIO,TEST_RATIO], generator=generator1)\n",
    " # train and test split must be disjoint!\n",
    "assert(len(set(train_split).intersection(set(test_split)))==0)"
   ]
  },
  {
   "cell_type": "markdown",
   "id": "2a85c034-86e6-44f5-9d22-dd71de27e252",
   "metadata": {},
   "source": [
    "# Model Training"
   ]
  },
  {
   "cell_type": "code",
   "execution_count": 8,
   "id": "1148040d",
   "metadata": {},
   "outputs": [],
   "source": [
    "from torch import nn\n",
    "class PositionalEncoding(nn.Module):\n",
    "    def __init__(self, d_model, dropout=0, max_len=seq_len):\n",
    "        super(PositionalEncoding, self).__init__()\n",
    "        self.dropout = nn.Dropout(p=dropout)\n",
    "        pe = torch.zeros(max_len, d_model)\n",
    "        position = torch.arange(0, max_len, dtype=torch.float).unsqueeze(1)\n",
    "        div_term = torch.exp(torch.arange(0, d_model, 2).float() * (-np.log(10000.0) / d_model))\n",
    "        pe[:, 0::2] = torch.sin(position * div_term)\n",
    "        pe[:, 1::2] = torch.cos(position * div_term)\n",
    "        pe = pe.unsqueeze(0).transpose(0, 1)\n",
    "        self.register_buffer('pe', pe)\n",
    "\n",
    "    def forward(self, x):\n",
    "        x = x + self.pe[:x.size(0), :]\n",
    "        return self.dropout(x)"
   ]
  },
  {
   "cell_type": "code",
   "execution_count": 9,
   "id": "80713cc6",
   "metadata": {},
   "outputs": [],
   "source": [
    "class TransformerNet(torch.nn.Module):\n",
    "    def __init__(self,n_tokens,seq_len,d_embed,d_mlp,n_heads):\n",
    "        super(TransformerNet,self).__init__()\n",
    "        self.We = nn.Embedding(n_tokens,d_embed)\n",
    "        self.Pe = PositionalEncoding(d_embed, max_len = seq_len)\n",
    "        \n",
    "        # Decoder: Attention head\n",
    "        self.attn1 = nn.MultiheadAttention(d_embed,n_heads,dropout=0,bias=False)\n",
    "        # Decoder: MLP\n",
    "        self.lin1 = nn.Linear(d_embed,d_mlp)\n",
    "        self.lin2 = nn.Linear(d_mlp,d_embed)\n",
    "        \n",
    "        # Unembedding (not tied to embedding)\n",
    "        self.Wu = nn.Linear(d_embed,n_tokens,bias=False)\n",
    "        \n",
    "    def forward(self,src):\n",
    "        # token\n",
    "        x0 = self.Pe(self.We(src).permute(1,0,2))\n",
    "        # x0 = token embedding + positional embedding\n",
    "        x1 = x0[2]+self.attn1(x0,x0,x0,need_weights=False)[0][2]\n",
    "        # x1: residual stream from first two tokens is irrelevant once '=' has attended to those tokens, so we only consider idx=2\n",
    "        x2 = x1+self.lin2(self.lin1(x1))\n",
    "        # x2: feed-forward (MLP) part of decoder\n",
    "        logits = self.Wu(x2)\n",
    "        return logits"
   ]
  },
  {
   "cell_type": "code",
   "execution_count": 10,
   "id": "9079f41c",
   "metadata": {},
   "outputs": [],
   "source": [
    "model = TransformerNet(n_tokens,seq_len,d_embed,d_mlp,n_heads)\n",
    "criterion = nn.CrossEntropyLoss()\n",
    "optimizer = torch.optim.AdamW(model.parameters(), lr = 0.001, weight_decay=1)"
   ]
  },
  {
   "cell_type": "code",
   "execution_count": 11,
   "id": "7465c5f5",
   "metadata": {},
   "outputs": [],
   "source": [
    "import warnings\n",
    "import matplotlib.pyplot as plt\n",
    "warnings.filterwarnings(\"ignore\")"
   ]
  },
  {
   "cell_type": "code",
   "execution_count": null,
   "id": "b3d2a606",
   "metadata": {},
   "outputs": [
    {
     "name": "stderr",
     "output_type": "stream",
     "text": [
      "  0%|                                                 | 0/40000 [00:00<?, ?it/s]Fatal Python error: config_get_locale_encoding: failed to get the locale encoding: nl_langinfo(CODESET) failed\n",
      "Python runtime state: preinitialized\n",
      "\n",
      " 99%|██████████████████████████████████▋| 39641/40000 [4:49:36<01:27,  4.10it/s]"
     ]
    }
   ],
   "source": [
    "%%time\n",
    "NUM_EPOCHS = 40000\n",
    "train_loss = []\n",
    "train_acc = []\n",
    "test_loss = []\n",
    "test_acc = []\n",
    "acc = lambda lgits,truth: (torch.sum(torch.argmax(lgits,1)==truth)/len(lgits)).item()\n",
    "for epoch in tqdm(range(NUM_EPOCHS)):\n",
    "    # train loss\n",
    "    x,y = next(iter(train_loader))\n",
    "    logits = model(x)\n",
    "    loss = criterion(logits,y)\n",
    "    train_loss.append(loss.item())\n",
    "    train_acc.append(acc(logits,y))\n",
    "    \n",
    "    # test loss\n",
    "    x,y = next(iter(test_loader))\n",
    "    logits = model(x)\n",
    "    loss2 = criterion(logits,y)\n",
    "    test_loss.append(loss2.item())\n",
    "    test_acc.append(acc(logits,y))\n",
    "    \n",
    "    # backprop\n",
    "    optimizer.zero_grad()\n",
    "    loss.backward()\n",
    "    optimizer.step()"
   ]
  },
  {
   "cell_type": "markdown",
   "id": "febfe4ad-7236-41e3-b4e5-7eb5e0ed4279",
   "metadata": {},
   "source": [
    "# Results"
   ]
  },
  {
   "cell_type": "code",
   "execution_count": 15,
   "id": "c66eaf61",
   "metadata": {},
   "outputs": [
    {
     "data": {
      "image/png": "[encoded data removed]",
      "text/plain": [
       "<Figure size 640x480 with 2 Axes>"
      ]
     },
     "metadata": {},
     "output_type": "display_data"
    }
   ],
   "source": [
    "fig,ax = plt.subplots(2,1,sharex=True)\n",
    "ax[0].set_title(\"Loss\")\n",
    "ax[0].plot(range(1, NUM_EPOCHS+1), test_loss, 'r-',label='test')\n",
    "ax[0].plot(range(1, NUM_EPOCHS+1), train_loss, 'b-',label='train')\n",
    "ax[0].legend()\n",
    "ax[1].set_title(\"Accuracy\")\n",
    "ax[1].plot(range(1, NUM_EPOCHS+1), test_acc, 'r-')\n",
    "ax[1].plot(range(1, NUM_EPOCHS+1), train_acc, 'b-')\n",
    "plt.show()"
   ]
  },
  {
   "cell_type": "code",
   "execution_count": null,
   "id": "4f0e2bef-2daf-471f-9cda-796116f24f71",
   "metadata": {},
   "outputs": [],
   "source": []
  }
 ],
 "metadata": {
  "kernelspec": {
   "display_name": "grokking",
   "language": "python",
   "name": "grokking"
  },
  "language_info": {
   "codemirror_mode": {
    "name": "ipython",
    "version": 3
   },
   "file_extension": ".py",
   "mimetype": "text/x-python",
   "name": "python",
   "nbconvert_exporter": "python",
   "pygments_lexer": "ipython3",
   "version": "3.9.16"
  }
 },
 "nbformat": 4,
 "nbformat_minor": 5
}
